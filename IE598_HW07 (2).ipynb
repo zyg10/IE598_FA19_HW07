{
 "cells": [
  {
   "cell_type": "code",
   "execution_count": 80,
   "metadata": {},
   "outputs": [],
   "source": [
    "import pandas as pd\n",
    "import numpy as np\n",
    "import matplotlib.pyplot as plt"
   ]
  },
  {
   "cell_type": "code",
   "execution_count": 81,
   "metadata": {},
   "outputs": [],
   "source": [
    "df = pd.read_csv('ccdefault.csv', header=0)"
   ]
  },
  {
   "cell_type": "code",
   "execution_count": 82,
   "metadata": {},
   "outputs": [
    {
     "data": {
      "text/html": [
       "<div>\n",
       "<style scoped>\n",
       "    .dataframe tbody tr th:only-of-type {\n",
       "        vertical-align: middle;\n",
       "    }\n",
       "\n",
       "    .dataframe tbody tr th {\n",
       "        vertical-align: top;\n",
       "    }\n",
       "\n",
       "    .dataframe thead th {\n",
       "        text-align: right;\n",
       "    }\n",
       "</style>\n",
       "<table border=\"1\" class=\"dataframe\">\n",
       "  <thead>\n",
       "    <tr style=\"text-align: right;\">\n",
       "      <th></th>\n",
       "      <th>ID</th>\n",
       "      <th>LIMIT_BAL</th>\n",
       "      <th>SEX</th>\n",
       "      <th>EDUCATION</th>\n",
       "      <th>MARRIAGE</th>\n",
       "      <th>AGE</th>\n",
       "      <th>PAY_0</th>\n",
       "      <th>PAY_2</th>\n",
       "      <th>PAY_3</th>\n",
       "      <th>PAY_4</th>\n",
       "      <th>...</th>\n",
       "      <th>BILL_AMT4</th>\n",
       "      <th>BILL_AMT5</th>\n",
       "      <th>BILL_AMT6</th>\n",
       "      <th>PAY_AMT1</th>\n",
       "      <th>PAY_AMT2</th>\n",
       "      <th>PAY_AMT3</th>\n",
       "      <th>PAY_AMT4</th>\n",
       "      <th>PAY_AMT5</th>\n",
       "      <th>PAY_AMT6</th>\n",
       "      <th>DEFAULT</th>\n",
       "    </tr>\n",
       "  </thead>\n",
       "  <tbody>\n",
       "    <tr>\n",
       "      <td>0</td>\n",
       "      <td>1</td>\n",
       "      <td>20000</td>\n",
       "      <td>2</td>\n",
       "      <td>2</td>\n",
       "      <td>1</td>\n",
       "      <td>24</td>\n",
       "      <td>2</td>\n",
       "      <td>2</td>\n",
       "      <td>-1</td>\n",
       "      <td>-1</td>\n",
       "      <td>...</td>\n",
       "      <td>0</td>\n",
       "      <td>0</td>\n",
       "      <td>0</td>\n",
       "      <td>0</td>\n",
       "      <td>689</td>\n",
       "      <td>0</td>\n",
       "      <td>0</td>\n",
       "      <td>0</td>\n",
       "      <td>0</td>\n",
       "      <td>1</td>\n",
       "    </tr>\n",
       "    <tr>\n",
       "      <td>1</td>\n",
       "      <td>2</td>\n",
       "      <td>120000</td>\n",
       "      <td>2</td>\n",
       "      <td>2</td>\n",
       "      <td>2</td>\n",
       "      <td>26</td>\n",
       "      <td>-1</td>\n",
       "      <td>2</td>\n",
       "      <td>0</td>\n",
       "      <td>0</td>\n",
       "      <td>...</td>\n",
       "      <td>3272</td>\n",
       "      <td>3455</td>\n",
       "      <td>3261</td>\n",
       "      <td>0</td>\n",
       "      <td>1000</td>\n",
       "      <td>1000</td>\n",
       "      <td>1000</td>\n",
       "      <td>0</td>\n",
       "      <td>2000</td>\n",
       "      <td>1</td>\n",
       "    </tr>\n",
       "    <tr>\n",
       "      <td>2</td>\n",
       "      <td>3</td>\n",
       "      <td>90000</td>\n",
       "      <td>2</td>\n",
       "      <td>2</td>\n",
       "      <td>2</td>\n",
       "      <td>34</td>\n",
       "      <td>0</td>\n",
       "      <td>0</td>\n",
       "      <td>0</td>\n",
       "      <td>0</td>\n",
       "      <td>...</td>\n",
       "      <td>14331</td>\n",
       "      <td>14948</td>\n",
       "      <td>15549</td>\n",
       "      <td>1518</td>\n",
       "      <td>1500</td>\n",
       "      <td>1000</td>\n",
       "      <td>1000</td>\n",
       "      <td>1000</td>\n",
       "      <td>5000</td>\n",
       "      <td>0</td>\n",
       "    </tr>\n",
       "    <tr>\n",
       "      <td>3</td>\n",
       "      <td>4</td>\n",
       "      <td>50000</td>\n",
       "      <td>2</td>\n",
       "      <td>2</td>\n",
       "      <td>1</td>\n",
       "      <td>37</td>\n",
       "      <td>0</td>\n",
       "      <td>0</td>\n",
       "      <td>0</td>\n",
       "      <td>0</td>\n",
       "      <td>...</td>\n",
       "      <td>28314</td>\n",
       "      <td>28959</td>\n",
       "      <td>29547</td>\n",
       "      <td>2000</td>\n",
       "      <td>2019</td>\n",
       "      <td>1200</td>\n",
       "      <td>1100</td>\n",
       "      <td>1069</td>\n",
       "      <td>1000</td>\n",
       "      <td>0</td>\n",
       "    </tr>\n",
       "    <tr>\n",
       "      <td>4</td>\n",
       "      <td>5</td>\n",
       "      <td>50000</td>\n",
       "      <td>1</td>\n",
       "      <td>2</td>\n",
       "      <td>1</td>\n",
       "      <td>57</td>\n",
       "      <td>-1</td>\n",
       "      <td>0</td>\n",
       "      <td>-1</td>\n",
       "      <td>0</td>\n",
       "      <td>...</td>\n",
       "      <td>20940</td>\n",
       "      <td>19146</td>\n",
       "      <td>19131</td>\n",
       "      <td>2000</td>\n",
       "      <td>36681</td>\n",
       "      <td>10000</td>\n",
       "      <td>9000</td>\n",
       "      <td>689</td>\n",
       "      <td>679</td>\n",
       "      <td>0</td>\n",
       "    </tr>\n",
       "  </tbody>\n",
       "</table>\n",
       "<p>5 rows × 25 columns</p>\n",
       "</div>"
      ],
      "text/plain": [
       "   ID  LIMIT_BAL  SEX  EDUCATION  MARRIAGE  AGE  PAY_0  PAY_2  PAY_3  PAY_4  \\\n",
       "0   1      20000    2          2         1   24      2      2     -1     -1   \n",
       "1   2     120000    2          2         2   26     -1      2      0      0   \n",
       "2   3      90000    2          2         2   34      0      0      0      0   \n",
       "3   4      50000    2          2         1   37      0      0      0      0   \n",
       "4   5      50000    1          2         1   57     -1      0     -1      0   \n",
       "\n",
       "   ...  BILL_AMT4  BILL_AMT5  BILL_AMT6  PAY_AMT1  PAY_AMT2  PAY_AMT3  \\\n",
       "0  ...          0          0          0         0       689         0   \n",
       "1  ...       3272       3455       3261         0      1000      1000   \n",
       "2  ...      14331      14948      15549      1518      1500      1000   \n",
       "3  ...      28314      28959      29547      2000      2019      1200   \n",
       "4  ...      20940      19146      19131      2000     36681     10000   \n",
       "\n",
       "   PAY_AMT4  PAY_AMT5  PAY_AMT6  DEFAULT  \n",
       "0         0         0         0        1  \n",
       "1      1000         0      2000        1  \n",
       "2      1000      1000      5000        0  \n",
       "3      1100      1069      1000        0  \n",
       "4      9000       689       679        0  \n",
       "\n",
       "[5 rows x 25 columns]"
      ]
     },
     "execution_count": 82,
     "metadata": {},
     "output_type": "execute_result"
    }
   ],
   "source": [
    "df.head()\n"
   ]
  },
  {
   "cell_type": "code",
   "execution_count": 83,
   "metadata": {},
   "outputs": [
    {
     "data": {
      "text/plain": [
       "(30000, 25)"
      ]
     },
     "execution_count": 83,
     "metadata": {},
     "output_type": "execute_result"
    }
   ],
   "source": [
    "df.shape"
   ]
  },
  {
   "cell_type": "code",
   "execution_count": 84,
   "metadata": {},
   "outputs": [],
   "source": [
    "from sklearn.model_selection import train_test_split"
   ]
  },
  {
   "cell_type": "code",
   "execution_count": 85,
   "metadata": {},
   "outputs": [],
   "source": [
    "X = df.iloc[:,1:-2]\n",
    "y = df.iloc[:,-1]"
   ]
  },
  {
   "cell_type": "code",
   "execution_count": 86,
   "metadata": {},
   "outputs": [],
   "source": [
    "X_train,X_test,y_train,y_test= train_test_split(X,y,test_size=0.1, random_state=42)"
   ]
  },
  {
   "cell_type": "code",
   "execution_count": 87,
   "metadata": {},
   "outputs": [],
   "source": [
    "from sklearn.ensemble import RandomForestClassifier\n",
    "import timeit"
   ]
  },
  {
   "cell_type": "code",
   "execution_count": 88,
   "metadata": {},
   "outputs": [],
   "source": [
    "rf = RandomForestClassifier(n_estimators=50)\n",
    "start = timeit.default_timer()"
   ]
  },
  {
   "cell_type": "code",
   "execution_count": 89,
   "metadata": {},
   "outputs": [
    {
     "data": {
      "text/plain": [
       "RandomForestClassifier(bootstrap=True, class_weight=None, criterion='gini',\n",
       "                       max_depth=None, max_features='auto', max_leaf_nodes=None,\n",
       "                       min_impurity_decrease=0.0, min_impurity_split=None,\n",
       "                       min_samples_leaf=1, min_samples_split=2,\n",
       "                       min_weight_fraction_leaf=0.0, n_estimators=50,\n",
       "                       n_jobs=None, oob_score=False, random_state=None,\n",
       "                       verbose=0, warm_start=False)"
      ]
     },
     "execution_count": 89,
     "metadata": {},
     "output_type": "execute_result"
    }
   ],
   "source": [
    "rf.fit(X_train,y_train)"
   ]
  },
  {
   "cell_type": "code",
   "execution_count": 90,
   "metadata": {},
   "outputs": [],
   "source": [
    "from sklearn.model_selection import cross_val_score"
   ]
  },
  {
   "cell_type": "code",
   "execution_count": 91,
   "metadata": {},
   "outputs": [],
   "source": [
    "cross_pred_test=rf.predict(X_test)\n",
    "cross_pred_train=rf.predict(X_train)\n",
    "train_accuracy_cv = cross_val_score(rf,X=X_train,y=y_train,cv=10,n_jobs=-1)\n",
    "test_accuracy_cv = cross_val_score(rf,X=X_test,y=y_test,cv=10,n_jobs=-1)"
   ]
  },
  {
   "cell_type": "code",
   "execution_count": 92,
   "metadata": {},
   "outputs": [
    {
     "data": {
      "text/html": [
       "<div>\n",
       "<style scoped>\n",
       "    .dataframe tbody tr th:only-of-type {\n",
       "        vertical-align: middle;\n",
       "    }\n",
       "\n",
       "    .dataframe tbody tr th {\n",
       "        vertical-align: top;\n",
       "    }\n",
       "\n",
       "    .dataframe thead th {\n",
       "        text-align: right;\n",
       "    }\n",
       "</style>\n",
       "<table border=\"1\" class=\"dataframe\">\n",
       "  <thead>\n",
       "    <tr style=\"text-align: right;\">\n",
       "      <th></th>\n",
       "      <th>1</th>\n",
       "      <th>2</th>\n",
       "      <th>3</th>\n",
       "      <th>4</th>\n",
       "      <th>5</th>\n",
       "      <th>6</th>\n",
       "      <th>7</th>\n",
       "      <th>8</th>\n",
       "      <th>9</th>\n",
       "      <th>10</th>\n",
       "    </tr>\n",
       "  </thead>\n",
       "  <tbody>\n",
       "    <tr>\n",
       "      <td>Train</td>\n",
       "      <td>0.813032</td>\n",
       "      <td>0.805257</td>\n",
       "      <td>0.823399</td>\n",
       "      <td>0.816296</td>\n",
       "      <td>0.823333</td>\n",
       "      <td>0.816667</td>\n",
       "      <td>0.821852</td>\n",
       "      <td>0.821045</td>\n",
       "      <td>0.806966</td>\n",
       "      <td>0.804742</td>\n",
       "    </tr>\n",
       "    <tr>\n",
       "      <td>Test</td>\n",
       "      <td>0.787375</td>\n",
       "      <td>0.800000</td>\n",
       "      <td>0.833333</td>\n",
       "      <td>0.806667</td>\n",
       "      <td>0.836667</td>\n",
       "      <td>0.800000</td>\n",
       "      <td>0.810000</td>\n",
       "      <td>0.843333</td>\n",
       "      <td>0.826667</td>\n",
       "      <td>0.806020</td>\n",
       "    </tr>\n",
       "  </tbody>\n",
       "</table>\n",
       "</div>"
      ],
      "text/plain": [
       "              1         2         3         4         5         6         7  \\\n",
       "Train  0.813032  0.805257  0.823399  0.816296  0.823333  0.816667  0.821852   \n",
       "Test   0.787375  0.800000  0.833333  0.806667  0.836667  0.800000  0.810000   \n",
       "\n",
       "              8         9        10  \n",
       "Train  0.821045  0.806966  0.804742  \n",
       "Test   0.843333  0.826667  0.806020  "
      ]
     },
     "execution_count": 92,
     "metadata": {},
     "output_type": "execute_result"
    }
   ],
   "source": [
    "test_rs_cv = list(test_accuracy_cv)\n",
    "\n",
    "train_rs_cv = list(train_accuracy_cv)\n",
    "rs_cv = pd.DataFrame(np.array([train_rs_cv,test_rs_cv]),columns = ['1','2','3','4','5','6','7','8','9','10'])\n",
    "rs_cv.rename(index={0:'Train',1:'Test'}, inplace=True)\n",
    "rs_cv\n",
    "\n",
    "\n"
   ]
  },
  {
   "cell_type": "code",
   "execution_count": 93,
   "metadata": {},
   "outputs": [
    {
     "name": "stdout",
     "output_type": "stream",
     "text": [
      "Time:  8.497571351999966\n"
     ]
    }
   ],
   "source": [
    "end = timeit.default_timer()\n",
    "print('Time: ', end - start) "
   ]
  },
  {
   "cell_type": "code",
   "execution_count": null,
   "metadata": {},
   "outputs": [],
   "source": []
  },
  {
   "cell_type": "code",
   "execution_count": null,
   "metadata": {},
   "outputs": [],
   "source": []
  },
  {
   "cell_type": "code",
   "execution_count": 94,
   "metadata": {},
   "outputs": [
    {
     "data": {
      "text/html": [
       "<div>\n",
       "<style scoped>\n",
       "    .dataframe tbody tr th:only-of-type {\n",
       "        vertical-align: middle;\n",
       "    }\n",
       "\n",
       "    .dataframe tbody tr th {\n",
       "        vertical-align: top;\n",
       "    }\n",
       "\n",
       "    .dataframe thead th {\n",
       "        text-align: right;\n",
       "    }\n",
       "</style>\n",
       "<table border=\"1\" class=\"dataframe\">\n",
       "  <thead>\n",
       "    <tr style=\"text-align: right;\">\n",
       "      <th></th>\n",
       "      <th>1</th>\n",
       "      <th>2</th>\n",
       "      <th>3</th>\n",
       "      <th>4</th>\n",
       "      <th>5</th>\n",
       "      <th>6</th>\n",
       "      <th>7</th>\n",
       "      <th>8</th>\n",
       "      <th>9</th>\n",
       "      <th>10</th>\n",
       "    </tr>\n",
       "  </thead>\n",
       "  <tbody>\n",
       "    <tr>\n",
       "      <td>Train</td>\n",
       "      <td>0.807108</td>\n",
       "      <td>0.805628</td>\n",
       "      <td>0.826731</td>\n",
       "      <td>0.818148</td>\n",
       "      <td>0.822222</td>\n",
       "      <td>0.809259</td>\n",
       "      <td>0.822593</td>\n",
       "      <td>0.820304</td>\n",
       "      <td>0.812523</td>\n",
       "      <td>0.809930</td>\n",
       "    </tr>\n",
       "    <tr>\n",
       "      <td>Test</td>\n",
       "      <td>0.787375</td>\n",
       "      <td>0.793333</td>\n",
       "      <td>0.820000</td>\n",
       "      <td>0.803333</td>\n",
       "      <td>0.843333</td>\n",
       "      <td>0.800000</td>\n",
       "      <td>0.810000</td>\n",
       "      <td>0.856667</td>\n",
       "      <td>0.813333</td>\n",
       "      <td>0.816054</td>\n",
       "    </tr>\n",
       "  </tbody>\n",
       "</table>\n",
       "</div>"
      ],
      "text/plain": [
       "              1         2         3         4         5         6         7  \\\n",
       "Train  0.807108  0.805628  0.826731  0.818148  0.822222  0.809259  0.822593   \n",
       "Test   0.787375  0.793333  0.820000  0.803333  0.843333  0.800000  0.810000   \n",
       "\n",
       "              8         9        10  \n",
       "Train  0.820304  0.812523  0.809930  \n",
       "Test   0.856667  0.813333  0.816054  "
      ]
     },
     "execution_count": 94,
     "metadata": {},
     "output_type": "execute_result"
    }
   ],
   "source": [
    "from sklearn.ensemble import RandomForestClassifier\n",
    "start1 = timeit.default_timer()\n",
    "rf_60 = RandomForestClassifier(n_estimators=60)\n",
    "rf_60.fit(X_train,y_train)\n",
    "from sklearn.model_selection import cross_val_score\n",
    "cross_pred_test=rf_60.predict(X_test)\n",
    "cross_pred_train=rf_60.predict(X_train)\n",
    "train_accuracy_cv = cross_val_score(rf_60,X=X_train,y=y_train,cv=10,n_jobs=-1)\n",
    "test_accuracy_cv = cross_val_score(rf_60,X=X_test,y=y_test,cv=10,n_jobs=-1)\n",
    "test_rs_cv = list(test_accuracy_cv)\n",
    "\n",
    "train_rs_cv = list(train_accuracy_cv)\n",
    "rs_cv = pd.DataFrame(np.array([train_rs_cv,test_rs_cv]),columns = ['1','2','3','4','5','6','7','8','9','10'])\n",
    "rs_cv.rename(index={0:'Train',1:'Test'}, inplace=True)\n",
    "rs_cv\n"
   ]
  },
  {
   "cell_type": "code",
   "execution_count": 95,
   "metadata": {},
   "outputs": [
    {
     "name": "stdout",
     "output_type": "stream",
     "text": [
      "Time:  9.401025442000048\n"
     ]
    }
   ],
   "source": [
    "end1 = timeit.default_timer()\n",
    "print('Time: ', end1 - start1) "
   ]
  },
  {
   "cell_type": "code",
   "execution_count": 96,
   "metadata": {},
   "outputs": [
    {
     "data": {
      "text/html": [
       "<div>\n",
       "<style scoped>\n",
       "    .dataframe tbody tr th:only-of-type {\n",
       "        vertical-align: middle;\n",
       "    }\n",
       "\n",
       "    .dataframe tbody tr th {\n",
       "        vertical-align: top;\n",
       "    }\n",
       "\n",
       "    .dataframe thead th {\n",
       "        text-align: right;\n",
       "    }\n",
       "</style>\n",
       "<table border=\"1\" class=\"dataframe\">\n",
       "  <thead>\n",
       "    <tr style=\"text-align: right;\">\n",
       "      <th></th>\n",
       "      <th>1</th>\n",
       "      <th>2</th>\n",
       "      <th>3</th>\n",
       "      <th>4</th>\n",
       "      <th>5</th>\n",
       "      <th>6</th>\n",
       "      <th>7</th>\n",
       "      <th>8</th>\n",
       "      <th>9</th>\n",
       "      <th>10</th>\n",
       "    </tr>\n",
       "  </thead>\n",
       "  <tbody>\n",
       "    <tr>\n",
       "      <td>Train</td>\n",
       "      <td>0.807849</td>\n",
       "      <td>0.805998</td>\n",
       "      <td>0.827101</td>\n",
       "      <td>0.818148</td>\n",
       "      <td>0.818889</td>\n",
       "      <td>0.815185</td>\n",
       "      <td>0.822593</td>\n",
       "      <td>0.819933</td>\n",
       "      <td>0.813635</td>\n",
       "      <td>0.811412</td>\n",
       "    </tr>\n",
       "    <tr>\n",
       "      <td>Test</td>\n",
       "      <td>0.784053</td>\n",
       "      <td>0.803333</td>\n",
       "      <td>0.810000</td>\n",
       "      <td>0.806667</td>\n",
       "      <td>0.836667</td>\n",
       "      <td>0.806667</td>\n",
       "      <td>0.800000</td>\n",
       "      <td>0.860000</td>\n",
       "      <td>0.813333</td>\n",
       "      <td>0.829431</td>\n",
       "    </tr>\n",
       "  </tbody>\n",
       "</table>\n",
       "</div>"
      ],
      "text/plain": [
       "              1         2         3         4         5         6         7  \\\n",
       "Train  0.807849  0.805998  0.827101  0.818148  0.818889  0.815185  0.822593   \n",
       "Test   0.784053  0.803333  0.810000  0.806667  0.836667  0.806667  0.800000   \n",
       "\n",
       "              8         9        10  \n",
       "Train  0.819933  0.813635  0.811412  \n",
       "Test   0.860000  0.813333  0.829431  "
      ]
     },
     "execution_count": 96,
     "metadata": {},
     "output_type": "execute_result"
    }
   ],
   "source": [
    "from sklearn.ensemble import RandomForestClassifier\n",
    "start2 = timeit.default_timer()\n",
    "rf_100 = RandomForestClassifier(n_estimators=100)\n",
    "rf_100.fit(X_train,y_train)\n",
    "from sklearn.model_selection import cross_val_score\n",
    "cross_pred_test=rf.predict(X_test)\n",
    "cross_pred_train=rf.predict(X_train)\n",
    "train_accuracy_cv = cross_val_score(rf_100,X=X_train,y=y_train,cv=10,n_jobs=-1)\n",
    "test_accuracy_cv = cross_val_score(rf_100,X=X_test,y=y_test,cv=10,n_jobs=-1)\n",
    "test_rs_cv = list(test_accuracy_cv)\n",
    "\n",
    "train_rs_cv = list(train_accuracy_cv)\n",
    "rs_cv = pd.DataFrame(np.array([train_rs_cv,test_rs_cv]),columns = ['1','2','3','4','5','6','7','8','9','10'])\n",
    "rs_cv.rename(index={0:'Train',1:'Test'}, inplace=True)\n",
    "rs_cv\n"
   ]
  },
  {
   "cell_type": "code",
   "execution_count": 97,
   "metadata": {},
   "outputs": [
    {
     "name": "stdout",
     "output_type": "stream",
     "text": [
      "Time:  15.737279049999984\n"
     ]
    }
   ],
   "source": [
    "end2 = timeit.default_timer()\n",
    "print('Time: ', end2 - start2) "
   ]
  },
  {
   "cell_type": "code",
   "execution_count": 98,
   "metadata": {},
   "outputs": [],
   "source": [
    "from sklearn.model_selection import GridSearchCV\n",
    "from sklearn.ensemble import RandomForestClassifier"
   ]
  },
  {
   "cell_type": "code",
   "execution_count": 99,
   "metadata": {},
   "outputs": [],
   "source": [
    "# param_grid = {\n",
    "#                  'n_estimators': [50, 80, 85,100],\n",
    "#              }\n",
    "# rf1 = RandomForestClassifier()"
   ]
  },
  {
   "cell_type": "code",
   "execution_count": 100,
   "metadata": {},
   "outputs": [],
   "source": [
    "\n",
    "# grid_rf = GridSearchCV(rf1, param_grid,cv = 10)\n",
    "# grid_rf.fit(X_train, y_train)"
   ]
  },
  {
   "cell_type": "code",
   "execution_count": 101,
   "metadata": {},
   "outputs": [],
   "source": [
    "# grid_rf.best_params_ "
   ]
  },
  {
   "cell_type": "markdown",
   "metadata": {},
   "source": [
    "## Importance"
   ]
  },
  {
   "cell_type": "code",
   "execution_count": 102,
   "metadata": {},
   "outputs": [],
   "source": [
    "importances = rf_100.feature_importances_"
   ]
  },
  {
   "cell_type": "code",
   "execution_count": 103,
   "metadata": {},
   "outputs": [
    {
     "name": "stdout",
     "output_type": "stream",
     "text": [
      "Feature importance ranking:\n",
      "1. feature 5 LIMIT_BAL (0.095806)\n",
      "2. feature 4 SEX (0.070662)\n",
      "3. feature 11 EDUCATION (0.064714)\n",
      "4. feature 0 MARRIAGE (0.062396)\n",
      "5. feature 12 AGE (0.058474)\n",
      "6. feature 13 PAY_0 (0.054989)\n",
      "7. feature 16 PAY_2 (0.054470)\n",
      "8. feature 17 PAY_3 (0.054454)\n",
      "9. feature 15 PAY_4 (0.054023)\n",
      "10. feature 14 PAY_5 (0.053568)\n",
      "11. feature 18 PAY_6 (0.049814)\n",
      "12. feature 19 BILL_AMT1 (0.049389)\n",
      "13. feature 21 BILL_AMT2 (0.046727)\n",
      "14. feature 6 BILL_AMT3 (0.046616)\n",
      "15. feature 20 BILL_AMT4 (0.045663)\n",
      "16. feature 8 BILL_AMT5 (0.026153)\n",
      "17. feature 7 BILL_AMT6 (0.024878)\n",
      "18. feature 2 PAY_AMT1 (0.021421)\n",
      "19. feature 10 PAY_AMT2 (0.019937)\n",
      "20. feature 9 PAY_AMT3 (0.019407)\n",
      "21. feature 3 PAY_AMT4 (0.014128)\n",
      "22. feature 1 PAY_AMT5 (0.012311)\n"
     ]
    },
    {
     "name": "stderr",
     "output_type": "stream",
     "text": [
      "/Users/zhuoyuanzhang/anaconda3/lib/python3.7/site-packages/ipykernel_launcher.py:4: FutureWarning: The 'get_values' method is deprecated and will be removed in a future version. Use '.to_numpy()' or '.array' instead.\n",
      "  after removing the cwd from sys.path.\n"
     ]
    },
    {
     "data": {
      "image/png": "[encoded data removed]",
      "text/plain": [
       "<Figure size 432x288 with 1 Axes>"
      ]
     },
     "metadata": {
      "needs_background": "light"
     },
     "output_type": "display_data"
    }
   ],
   "source": [
    "\n",
    "#std = np.std([tree.feature_importances_ for tree in rf.estimators_], axis=0)\n",
    "indices = np.argsort(importances)[::-1]\n",
    "feature_name = X_test.columns.get_values()\n",
    "\n",
    "# Print the feature ranking\n",
    "print(\"Feature importance ranking:\")\n",
    "\n",
    "for f in range(X_test.shape[1]):\n",
    "    print(\"%d. feature %d %s (%f)\" % (f + 1, indices[f],  feature_name[f], importances[indices[f]]))\n",
    "    \n",
    "plt.figure(1)\n",
    "plt.bar(feature_name[:], importances[indices[:]])\n",
    "plt.xticks(rotation=90)\n",
    "plt.show()"
   ]
  },
  {
   "cell_type": "code",
   "execution_count": 104,
   "metadata": {},
   "outputs": [
    {
     "name": "stdout",
     "output_type": "stream",
     "text": [
      "My name is Zhuoyuan Zhang\n",
      "My NetID is: zz10\n",
      "I hereby certify that I have read the University policy on Academic Integrity and that I am not in violation.\n"
     ]
    }
   ],
   "source": [
    "print(\"My name is Zhuoyuan Zhang\")\n",
    "print(\"My NetID is: zz10\")\n",
    "\n",
    "print(\"I hereby certify that I have read the University policy on Academic Integrity and that I am not in violation.\")"
   ]
  },
  {
   "cell_type": "code",
   "execution_count": null,
   "metadata": {},
   "outputs": [],
   "source": []
  },
  {
   "cell_type": "code",
   "execution_count": null,
   "metadata": {},
   "outputs": [],
   "source": []
  },
  {
   "cell_type": "code",
   "execution_count": null,
   "metadata": {},
   "outputs": [],
   "source": []
  }
 ],
 "metadata": {
  "kernelspec": {
   "display_name": "Python 3",
   "language": "python",
   "name": "python3"
  },
  "language_info": {
   "codemirror_mode": {
    "name": "ipython",
    "version": 3
   },
   "file_extension": ".py",
   "mimetype": "text/x-python",
   "name": "python",
   "nbconvert_exporter": "python",
   "pygments_lexer": "ipython3",
   "version": "3.7.1"
  }
 },
 "nbformat": 4,
 "nbformat_minor": 2
}
